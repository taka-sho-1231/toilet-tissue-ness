{
 "cells": [
  {
   "cell_type": "markdown",
   "id": "e4d107e6",
   "metadata": {},
   "source": [
    "# Toilet Tissue-ness Game 🧻\n",
    "\n",
    "**Can you predict which image the AI thinks looks most like toilet tissue?**\n",
    "\n",
    "This is an interactive game where you predict which random image an AI model (ResNet50) will score highest for \"toilet tissue-ness\"!\n",
    "\n",
    "## How to Play\n",
    "1. Run all cells to generate random images\n",
    "2. Look at the images and predict which one the AI will rate highest\n",
    "3. Enter your choice\n",
    "4. See if you can match the AI's prediction!\n",
    "\n",
    "## Technical Details\n",
    "- Model: ResNet50 (ImageNet pre-trained)\n",
    "- Target class: 999 (toilet tissue, toilet paper, bathroom tissue)\n",
    "- Your mission: Predict which image the AI scores highest!"
   ]
  },
  {
   "cell_type": "code",
   "execution_count": null,
   "id": "44287fa9",
   "metadata": {},
   "outputs": [],
   "source": [
    "# Import required libraries\n",
    "import matplotlib.pyplot as plt\n",
    "\n",
    "from utils import (\n",
    "    ModelName,\n",
    "    acquire_images,\n",
    "    display_results,\n",
    "    load_imagenet_model,\n",
    "    run_inference,\n",
    ")"
   ]
  },
  {
   "cell_type": "code",
   "execution_count": null,
   "id": "03ce39fd",
   "metadata": {},
   "outputs": [],
   "source": [
    "# Load pre-trained model\n",
    "model, preprocess, size = load_imagenet_model(ModelName.RESNET50)\n",
    "print(f\"Model loaded: ResNet50\")\n",
    "print(f\"Input size: {size}x{size}\")\n",
    "print(f\"Device: {next(model.parameters()).device}\")\n"
   ]
  },
  {
   "cell_type": "code",
   "execution_count": null,
   "id": "f6ff360e",
   "metadata": {},
   "outputs": [],
   "source": [
    "# Configuration\n",
    "TISSUE_PAPER_CLASS_IDX = 999  # ImageNet class index: \"toilet tissue, toilet paper, bathroom tissue\"\n",
    "num_images = 5  # Number of images to process\n"
   ]
  },
  {
   "cell_type": "code",
   "execution_count": null,
   "id": "90060707",
   "metadata": {},
   "outputs": [],
   "source": [
    "# Acquire random images\n",
    "images = acquire_images(num_images, size, online=True)"
   ]
  },
  {
   "cell_type": "code",
   "execution_count": null,
   "id": "b5e9d30b",
   "metadata": {},
   "outputs": [],
   "source": [
    "# Run inference\n",
    "tissue_scores = run_inference(model, preprocess, images, TISSUE_PAPER_CLASS_IDX)\n",
    "\n",
    "print(f\"Inference completed for {len(images)} images\")\n",
    "print(\"\\n\" + \"=\"*50)\n",
    "print(\"Please view the images below and predict which one\")\n",
    "print(\"the AI will rate highest for toilet tissue-ness.\")\n",
    "print(\"=\"*50)"
   ]
  },
  {
   "cell_type": "code",
   "execution_count": null,
   "id": "98de4479",
   "metadata": {},
   "outputs": [],
   "source": [
    "# Visualize images (without scores)\n",
    "fig, axes = plt.subplots(1, num_images, figsize=(num_images * 3, 4))\n",
    "if num_images == 1:\n",
    "    axes = [axes]\n",
    "\n",
    "for i, img in enumerate(images):\n",
    "    axes[i].imshow(img)\n",
    "    axes[i].axis('off')\n",
    "    axes[i].set_title(f'Image {i+1}', fontsize=12, fontweight='bold')\n",
    "\n",
    "plt.tight_layout()\n",
    "plt.show()"
   ]
  },
  {
   "cell_type": "code",
   "execution_count": null,
   "id": "b7639e73",
   "metadata": {},
   "outputs": [],
   "source": [
    "# Get user input\n",
    "user_choice = input(f\"Which image (1-{num_images}) will the AI rate highest? \")"
   ]
  },
  {
   "cell_type": "code",
   "execution_count": null,
   "id": "c11451fa",
   "metadata": {},
   "outputs": [],
   "source": [
    "# Display results\n",
    "try:\n",
    "    selected_idx = int(user_choice) - 1\n",
    "    display_results(tissue_scores, selected_idx, num_images)\n",
    "except ValueError:\n",
    "    print(\"Invalid input. Please enter a number.\")"
   ]
  }
 ],
 "metadata": {
  "kernelspec": {
   "display_name": "venv",
   "language": "python",
   "name": "python3"
  },
  "language_info": {
   "codemirror_mode": {
    "name": "ipython",
    "version": 3
   },
   "file_extension": ".py",
   "mimetype": "text/x-python",
   "name": "python",
   "nbconvert_exporter": "python",
   "pygments_lexer": "ipython3",
   "version": "3.10.12"
  }
 },
 "nbformat": 4,
 "nbformat_minor": 5
}
